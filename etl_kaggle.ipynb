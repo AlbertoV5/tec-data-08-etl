{
 "cells": [
  {
   "cell_type": "code",
   "execution_count": 46,
   "metadata": {},
   "outputs": [],
   "source": [
    "import pandas as pd\n",
    "from pathlib import Path\n",
    "\n",
    "path = Path.cwd() / \"movies\"\n",
    "kaggle_metadata = pd.read_csv(path / \"movies_metadata.csv\", low_memory=False)\n",
    "kaggle_rating = pd.read_csv(path / \"ratings.csv\", low_memory=False)"
   ]
  },
  {
   "cell_type": "code",
   "execution_count": 47,
   "metadata": {},
   "outputs": [
    {
     "data": {
      "text/html": [
       "<div>\n",
       "<style scoped>\n",
       "    .dataframe tbody tr th:only-of-type {\n",
       "        vertical-align: middle;\n",
       "    }\n",
       "\n",
       "    .dataframe tbody tr th {\n",
       "        vertical-align: top;\n",
       "    }\n",
       "\n",
       "    .dataframe thead th {\n",
       "        text-align: right;\n",
       "    }\n",
       "</style>\n",
       "<table border=\"1\" class=\"dataframe\">\n",
       "  <thead>\n",
       "    <tr style=\"text-align: right;\">\n",
       "      <th></th>\n",
       "      <th>adult</th>\n",
       "      <th>belongs_to_collection</th>\n",
       "      <th>budget</th>\n",
       "      <th>genres</th>\n",
       "      <th>homepage</th>\n",
       "      <th>id</th>\n",
       "      <th>imdb_id</th>\n",
       "      <th>original_language</th>\n",
       "      <th>original_title</th>\n",
       "      <th>overview</th>\n",
       "      <th>...</th>\n",
       "      <th>release_date</th>\n",
       "      <th>revenue</th>\n",
       "      <th>runtime</th>\n",
       "      <th>spoken_languages</th>\n",
       "      <th>status</th>\n",
       "      <th>tagline</th>\n",
       "      <th>title</th>\n",
       "      <th>video</th>\n",
       "      <th>vote_average</th>\n",
       "      <th>vote_count</th>\n",
       "    </tr>\n",
       "  </thead>\n",
       "  <tbody>\n",
       "    <tr>\n",
       "      <th>23696</th>\n",
       "      <td>False</td>\n",
       "      <td>NaN</td>\n",
       "      <td>0</td>\n",
       "      <td>[{'id': 53, 'name': 'Thriller'}, {'id': 28, 'n...</td>\n",
       "      <td>NaN</td>\n",
       "      <td>258750</td>\n",
       "      <td>tt3141912</td>\n",
       "      <td>en</td>\n",
       "      <td>Gun Woman</td>\n",
       "      <td>A brilliant doctor on a quest for revenge buys...</td>\n",
       "      <td>...</td>\n",
       "      <td>2014-02-28</td>\n",
       "      <td>0.0</td>\n",
       "      <td>86.0</td>\n",
       "      <td>[{'iso_639_1': 'en', 'name': 'English'}, {'iso...</td>\n",
       "      <td>Released</td>\n",
       "      <td>Kill the target before you bleed to death!</td>\n",
       "      <td>Gun Woman</td>\n",
       "      <td>False</td>\n",
       "      <td>4.8</td>\n",
       "      <td>33.0</td>\n",
       "    </tr>\n",
       "    <tr>\n",
       "      <th>23517</th>\n",
       "      <td>False</td>\n",
       "      <td>NaN</td>\n",
       "      <td>0</td>\n",
       "      <td>[{'id': 18, 'name': 'Drama'}, {'id': 28, 'name...</td>\n",
       "      <td>NaN</td>\n",
       "      <td>220820</td>\n",
       "      <td>tt2510268</td>\n",
       "      <td>en</td>\n",
       "      <td>Blood of Redemption</td>\n",
       "      <td>Quinn Forte had it all: power, money, a brothe...</td>\n",
       "      <td>...</td>\n",
       "      <td>2013-09-23</td>\n",
       "      <td>0.0</td>\n",
       "      <td>85.0</td>\n",
       "      <td>[{'iso_639_1': 'cs', 'name': 'Český'}, {'iso_6...</td>\n",
       "      <td>Released</td>\n",
       "      <td>NaN</td>\n",
       "      <td>Blood of Redemption</td>\n",
       "      <td>False</td>\n",
       "      <td>5.3</td>\n",
       "      <td>17.0</td>\n",
       "    </tr>\n",
       "    <tr>\n",
       "      <th>15683</th>\n",
       "      <td>False</td>\n",
       "      <td>NaN</td>\n",
       "      <td>0</td>\n",
       "      <td>[{'id': 18, 'name': 'Drama'}, {'id': 10402, 'n...</td>\n",
       "      <td>NaN</td>\n",
       "      <td>44140</td>\n",
       "      <td>tt0046076</td>\n",
       "      <td>en</td>\n",
       "      <td>Miss Sadie Thompson</td>\n",
       "      <td>Sadie Thompson winds up stranded on an island ...</td>\n",
       "      <td>...</td>\n",
       "      <td>1953-12-23</td>\n",
       "      <td>0.0</td>\n",
       "      <td>91.0</td>\n",
       "      <td>[{'iso_639_1': 'en', 'name': 'English'}]</td>\n",
       "      <td>Released</td>\n",
       "      <td>RITA TURNS ON THE HEAT IN 3D</td>\n",
       "      <td>Miss Sadie Thompson</td>\n",
       "      <td>False</td>\n",
       "      <td>5.0</td>\n",
       "      <td>5.0</td>\n",
       "    </tr>\n",
       "    <tr>\n",
       "      <th>8993</th>\n",
       "      <td>False</td>\n",
       "      <td>NaN</td>\n",
       "      <td>0</td>\n",
       "      <td>[{'id': 18, 'name': 'Drama'}, {'id': 10751, 'n...</td>\n",
       "      <td>NaN</td>\n",
       "      <td>23438</td>\n",
       "      <td>tt0103262</td>\n",
       "      <td>en</td>\n",
       "      <td>Wild Hearts Can't Be Broken</td>\n",
       "      <td>A runaway orphan, young Sonora, persists in a ...</td>\n",
       "      <td>...</td>\n",
       "      <td>1991-05-24</td>\n",
       "      <td>0.0</td>\n",
       "      <td>88.0</td>\n",
       "      <td>[{'iso_639_1': 'en', 'name': 'English'}, {'iso...</td>\n",
       "      <td>Released</td>\n",
       "      <td>NaN</td>\n",
       "      <td>Wild Hearts Can't Be Broken</td>\n",
       "      <td>False</td>\n",
       "      <td>7.4</td>\n",
       "      <td>25.0</td>\n",
       "    </tr>\n",
       "    <tr>\n",
       "      <th>44309</th>\n",
       "      <td>False</td>\n",
       "      <td>NaN</td>\n",
       "      <td>0</td>\n",
       "      <td>[{'id': 35, 'name': 'Comedy'}]</td>\n",
       "      <td>http://www.seulstwo.com</td>\n",
       "      <td>13741</td>\n",
       "      <td>tt1077097</td>\n",
       "      <td>fr</td>\n",
       "      <td>Seuls Two</td>\n",
       "      <td>A bumbling Paris policeman is doggedly determi...</td>\n",
       "      <td>...</td>\n",
       "      <td>2008-06-25</td>\n",
       "      <td>0.0</td>\n",
       "      <td>94.0</td>\n",
       "      <td>[{'iso_639_1': 'cs', 'name': 'Český'}, {'iso_6...</td>\n",
       "      <td>Released</td>\n",
       "      <td>What if Paris was yours?</td>\n",
       "      <td>2 Alone in Paris</td>\n",
       "      <td>False</td>\n",
       "      <td>5.1</td>\n",
       "      <td>74.0</td>\n",
       "    </tr>\n",
       "  </tbody>\n",
       "</table>\n",
       "<p>5 rows × 24 columns</p>\n",
       "</div>"
      ],
      "text/plain": [
       "       adult belongs_to_collection budget  \\\n",
       "23696  False                   NaN      0   \n",
       "23517  False                   NaN      0   \n",
       "15683  False                   NaN      0   \n",
       "8993   False                   NaN      0   \n",
       "44309  False                   NaN      0   \n",
       "\n",
       "                                                  genres  \\\n",
       "23696  [{'id': 53, 'name': 'Thriller'}, {'id': 28, 'n...   \n",
       "23517  [{'id': 18, 'name': 'Drama'}, {'id': 28, 'name...   \n",
       "15683  [{'id': 18, 'name': 'Drama'}, {'id': 10402, 'n...   \n",
       "8993   [{'id': 18, 'name': 'Drama'}, {'id': 10751, 'n...   \n",
       "44309                     [{'id': 35, 'name': 'Comedy'}]   \n",
       "\n",
       "                      homepage      id    imdb_id original_language  \\\n",
       "23696                      NaN  258750  tt3141912                en   \n",
       "23517                      NaN  220820  tt2510268                en   \n",
       "15683                      NaN   44140  tt0046076                en   \n",
       "8993                       NaN   23438  tt0103262                en   \n",
       "44309  http://www.seulstwo.com   13741  tt1077097                fr   \n",
       "\n",
       "                    original_title  \\\n",
       "23696                    Gun Woman   \n",
       "23517          Blood of Redemption   \n",
       "15683          Miss Sadie Thompson   \n",
       "8993   Wild Hearts Can't Be Broken   \n",
       "44309                    Seuls Two   \n",
       "\n",
       "                                                overview  ... release_date  \\\n",
       "23696  A brilliant doctor on a quest for revenge buys...  ...   2014-02-28   \n",
       "23517  Quinn Forte had it all: power, money, a brothe...  ...   2013-09-23   \n",
       "15683  Sadie Thompson winds up stranded on an island ...  ...   1953-12-23   \n",
       "8993   A runaway orphan, young Sonora, persists in a ...  ...   1991-05-24   \n",
       "44309  A bumbling Paris policeman is doggedly determi...  ...   2008-06-25   \n",
       "\n",
       "      revenue runtime                                   spoken_languages  \\\n",
       "23696     0.0    86.0  [{'iso_639_1': 'en', 'name': 'English'}, {'iso...   \n",
       "23517     0.0    85.0  [{'iso_639_1': 'cs', 'name': 'Český'}, {'iso_6...   \n",
       "15683     0.0    91.0           [{'iso_639_1': 'en', 'name': 'English'}]   \n",
       "8993      0.0    88.0  [{'iso_639_1': 'en', 'name': 'English'}, {'iso...   \n",
       "44309     0.0    94.0  [{'iso_639_1': 'cs', 'name': 'Český'}, {'iso_6...   \n",
       "\n",
       "         status                                     tagline  \\\n",
       "23696  Released  Kill the target before you bleed to death!   \n",
       "23517  Released                                         NaN   \n",
       "15683  Released                RITA TURNS ON THE HEAT IN 3D   \n",
       "8993   Released                                         NaN   \n",
       "44309  Released                    What if Paris was yours?   \n",
       "\n",
       "                             title  video vote_average vote_count  \n",
       "23696                    Gun Woman  False          4.8       33.0  \n",
       "23517          Blood of Redemption  False          5.3       17.0  \n",
       "15683          Miss Sadie Thompson  False          5.0        5.0  \n",
       "8993   Wild Hearts Can't Be Broken  False          7.4       25.0  \n",
       "44309             2 Alone in Paris  False          5.1       74.0  \n",
       "\n",
       "[5 rows x 24 columns]"
      ]
     },
     "execution_count": 47,
     "metadata": {},
     "output_type": "execute_result"
    }
   ],
   "source": [
    "kaggle_metadata.sample(5)"
   ]
  },
  {
   "cell_type": "code",
   "execution_count": 48,
   "metadata": {},
   "outputs": [
    {
     "data": {
      "text/html": [
       "<div>\n",
       "<style scoped>\n",
       "    .dataframe tbody tr th:only-of-type {\n",
       "        vertical-align: middle;\n",
       "    }\n",
       "\n",
       "    .dataframe tbody tr th {\n",
       "        vertical-align: top;\n",
       "    }\n",
       "\n",
       "    .dataframe thead th {\n",
       "        text-align: right;\n",
       "    }\n",
       "</style>\n",
       "<table border=\"1\" class=\"dataframe\">\n",
       "  <thead>\n",
       "    <tr style=\"text-align: right;\">\n",
       "      <th></th>\n",
       "      <th>userId</th>\n",
       "      <th>movieId</th>\n",
       "      <th>rating</th>\n",
       "      <th>timestamp</th>\n",
       "    </tr>\n",
       "  </thead>\n",
       "  <tbody>\n",
       "    <tr>\n",
       "      <th>23837082</th>\n",
       "      <td>247536</td>\n",
       "      <td>838</td>\n",
       "      <td>4.0</td>\n",
       "      <td>1261950333</td>\n",
       "    </tr>\n",
       "    <tr>\n",
       "      <th>21477820</th>\n",
       "      <td>223100</td>\n",
       "      <td>81229</td>\n",
       "      <td>5.0</td>\n",
       "      <td>1442003841</td>\n",
       "    </tr>\n",
       "    <tr>\n",
       "      <th>2399398</th>\n",
       "      <td>24878</td>\n",
       "      <td>87</td>\n",
       "      <td>3.0</td>\n",
       "      <td>942979119</td>\n",
       "    </tr>\n",
       "    <tr>\n",
       "      <th>2035192</th>\n",
       "      <td>21172</td>\n",
       "      <td>88125</td>\n",
       "      <td>4.5</td>\n",
       "      <td>1325893070</td>\n",
       "    </tr>\n",
       "    <tr>\n",
       "      <th>16789935</th>\n",
       "      <td>174514</td>\n",
       "      <td>3072</td>\n",
       "      <td>3.5</td>\n",
       "      <td>1358456237</td>\n",
       "    </tr>\n",
       "  </tbody>\n",
       "</table>\n",
       "</div>"
      ],
      "text/plain": [
       "          userId  movieId  rating   timestamp\n",
       "23837082  247536      838     4.0  1261950333\n",
       "21477820  223100    81229     5.0  1442003841\n",
       "2399398    24878       87     3.0   942979119\n",
       "2035192    21172    88125     4.5  1325893070\n",
       "16789935  174514     3072     3.5  1358456237"
      ]
     },
     "execution_count": 48,
     "metadata": {},
     "output_type": "execute_result"
    }
   ],
   "source": [
    "kaggle_rating.sample(5)"
   ]
  },
  {
   "cell_type": "code",
   "execution_count": 49,
   "metadata": {},
   "outputs": [
    {
     "data": {
      "text/plain": [
       "adult                     object\n",
       "belongs_to_collection     object\n",
       "budget                    object\n",
       "genres                    object\n",
       "homepage                  object\n",
       "id                        object\n",
       "imdb_id                   object\n",
       "original_language         object\n",
       "original_title            object\n",
       "overview                  object\n",
       "popularity                object\n",
       "poster_path               object\n",
       "production_companies      object\n",
       "production_countries      object\n",
       "release_date              object\n",
       "revenue                  float64\n",
       "runtime                  float64\n",
       "spoken_languages          object\n",
       "status                    object\n",
       "tagline                   object\n",
       "title                     object\n",
       "video                     object\n",
       "vote_average             float64\n",
       "vote_count               float64\n",
       "dtype: object"
      ]
     },
     "execution_count": 49,
     "metadata": {},
     "output_type": "execute_result"
    }
   ],
   "source": [
    "kaggle_metadata.dtypes"
   ]
  },
  {
   "cell_type": "code",
   "execution_count": 50,
   "metadata": {},
   "outputs": [
    {
     "data": {
      "text/plain": [
       "21192    10.260026\n",
       "17118     0.699893\n",
       "23557    12.256689\n",
       "29582     0.544758\n",
       "32688      0.22538\n",
       "Name: popularity, dtype: object"
      ]
     },
     "execution_count": 50,
     "metadata": {},
     "output_type": "execute_result"
    }
   ],
   "source": [
    "kaggle_metadata['popularity'].sample(5)"
   ]
  },
  {
   "cell_type": "code",
   "execution_count": 51,
   "metadata": {},
   "outputs": [
    {
     "data": {
      "text/plain": [
       "False                                                                                                                             45454\n",
       "True                                                                                                                                  9\n",
       " - Written by Ørnås                                                                                                                   1\n",
       " Rune Balot goes to a casino connected to the October corporation to try to wrap up her case once and for all.                        1\n",
       " Avalanche Sharks tells the story of a bikini contest that turns into a horrifying affair when it is hit by a shark avalanche.        1\n",
       "Name: adult, dtype: int64"
      ]
     },
     "execution_count": 51,
     "metadata": {},
     "output_type": "execute_result"
    }
   ],
   "source": [
    "kaggle_metadata['adult'].value_counts()"
   ]
  },
  {
   "cell_type": "code",
   "execution_count": 52,
   "metadata": {},
   "outputs": [
    {
     "data": {
      "text/html": [
       "<div>\n",
       "<style scoped>\n",
       "    .dataframe tbody tr th:only-of-type {\n",
       "        vertical-align: middle;\n",
       "    }\n",
       "\n",
       "    .dataframe tbody tr th {\n",
       "        vertical-align: top;\n",
       "    }\n",
       "\n",
       "    .dataframe thead th {\n",
       "        text-align: right;\n",
       "    }\n",
       "</style>\n",
       "<table border=\"1\" class=\"dataframe\">\n",
       "  <thead>\n",
       "    <tr style=\"text-align: right;\">\n",
       "      <th></th>\n",
       "      <th>adult</th>\n",
       "      <th>belongs_to_collection</th>\n",
       "      <th>budget</th>\n",
       "      <th>genres</th>\n",
       "      <th>homepage</th>\n",
       "      <th>id</th>\n",
       "      <th>imdb_id</th>\n",
       "      <th>original_language</th>\n",
       "      <th>original_title</th>\n",
       "      <th>overview</th>\n",
       "      <th>...</th>\n",
       "      <th>release_date</th>\n",
       "      <th>revenue</th>\n",
       "      <th>runtime</th>\n",
       "      <th>spoken_languages</th>\n",
       "      <th>status</th>\n",
       "      <th>tagline</th>\n",
       "      <th>title</th>\n",
       "      <th>video</th>\n",
       "      <th>vote_average</th>\n",
       "      <th>vote_count</th>\n",
       "    </tr>\n",
       "  </thead>\n",
       "  <tbody>\n",
       "    <tr>\n",
       "      <th>19730</th>\n",
       "      <td>- Written by Ørnås</td>\n",
       "      <td>0.065736</td>\n",
       "      <td>/ff9qCepilowshEtG2GYWwzt2bs4.jpg</td>\n",
       "      <td>[{'name': 'Carousel Productions', 'id': 11176}...</td>\n",
       "      <td>[{'iso_3166_1': 'CA', 'name': 'Canada'}, {'iso...</td>\n",
       "      <td>1997-08-20</td>\n",
       "      <td>0</td>\n",
       "      <td>104.0</td>\n",
       "      <td>[{'iso_639_1': 'en', 'name': 'English'}]</td>\n",
       "      <td>Released</td>\n",
       "      <td>...</td>\n",
       "      <td>1</td>\n",
       "      <td>NaN</td>\n",
       "      <td>NaN</td>\n",
       "      <td>NaN</td>\n",
       "      <td>NaN</td>\n",
       "      <td>NaN</td>\n",
       "      <td>NaN</td>\n",
       "      <td>NaN</td>\n",
       "      <td>NaN</td>\n",
       "      <td>NaN</td>\n",
       "    </tr>\n",
       "    <tr>\n",
       "      <th>29503</th>\n",
       "      <td>Rune Balot goes to a casino connected to the ...</td>\n",
       "      <td>1.931659</td>\n",
       "      <td>/zV8bHuSL6WXoD6FWogP9j4x80bL.jpg</td>\n",
       "      <td>[{'name': 'Aniplex', 'id': 2883}, {'name': 'Go...</td>\n",
       "      <td>[{'iso_3166_1': 'US', 'name': 'United States o...</td>\n",
       "      <td>2012-09-29</td>\n",
       "      <td>0</td>\n",
       "      <td>68.0</td>\n",
       "      <td>[{'iso_639_1': 'ja', 'name': '日本語'}]</td>\n",
       "      <td>Released</td>\n",
       "      <td>...</td>\n",
       "      <td>12</td>\n",
       "      <td>NaN</td>\n",
       "      <td>NaN</td>\n",
       "      <td>NaN</td>\n",
       "      <td>NaN</td>\n",
       "      <td>NaN</td>\n",
       "      <td>NaN</td>\n",
       "      <td>NaN</td>\n",
       "      <td>NaN</td>\n",
       "      <td>NaN</td>\n",
       "    </tr>\n",
       "    <tr>\n",
       "      <th>35587</th>\n",
       "      <td>Avalanche Sharks tells the story of a bikini ...</td>\n",
       "      <td>2.185485</td>\n",
       "      <td>/zaSf5OG7V8X8gqFvly88zDdRm46.jpg</td>\n",
       "      <td>[{'name': 'Odyssey Media', 'id': 17161}, {'nam...</td>\n",
       "      <td>[{'iso_3166_1': 'CA', 'name': 'Canada'}]</td>\n",
       "      <td>2014-01-01</td>\n",
       "      <td>0</td>\n",
       "      <td>82.0</td>\n",
       "      <td>[{'iso_639_1': 'en', 'name': 'English'}]</td>\n",
       "      <td>Released</td>\n",
       "      <td>...</td>\n",
       "      <td>22</td>\n",
       "      <td>NaN</td>\n",
       "      <td>NaN</td>\n",
       "      <td>NaN</td>\n",
       "      <td>NaN</td>\n",
       "      <td>NaN</td>\n",
       "      <td>NaN</td>\n",
       "      <td>NaN</td>\n",
       "      <td>NaN</td>\n",
       "      <td>NaN</td>\n",
       "    </tr>\n",
       "  </tbody>\n",
       "</table>\n",
       "<p>3 rows × 24 columns</p>\n",
       "</div>"
      ],
      "text/plain": [
       "                                                   adult  \\\n",
       "19730                                 - Written by Ørnås   \n",
       "29503   Rune Balot goes to a casino connected to the ...   \n",
       "35587   Avalanche Sharks tells the story of a bikini ...   \n",
       "\n",
       "      belongs_to_collection                            budget  \\\n",
       "19730              0.065736  /ff9qCepilowshEtG2GYWwzt2bs4.jpg   \n",
       "29503              1.931659  /zV8bHuSL6WXoD6FWogP9j4x80bL.jpg   \n",
       "35587              2.185485  /zaSf5OG7V8X8gqFvly88zDdRm46.jpg   \n",
       "\n",
       "                                                  genres  \\\n",
       "19730  [{'name': 'Carousel Productions', 'id': 11176}...   \n",
       "29503  [{'name': 'Aniplex', 'id': 2883}, {'name': 'Go...   \n",
       "35587  [{'name': 'Odyssey Media', 'id': 17161}, {'nam...   \n",
       "\n",
       "                                                homepage          id imdb_id  \\\n",
       "19730  [{'iso_3166_1': 'CA', 'name': 'Canada'}, {'iso...  1997-08-20       0   \n",
       "29503  [{'iso_3166_1': 'US', 'name': 'United States o...  2012-09-29       0   \n",
       "35587           [{'iso_3166_1': 'CA', 'name': 'Canada'}]  2014-01-01       0   \n",
       "\n",
       "      original_language                            original_title  overview  \\\n",
       "19730             104.0  [{'iso_639_1': 'en', 'name': 'English'}]  Released   \n",
       "29503              68.0      [{'iso_639_1': 'ja', 'name': '日本語'}]  Released   \n",
       "35587              82.0  [{'iso_639_1': 'en', 'name': 'English'}]  Released   \n",
       "\n",
       "       ... release_date revenue runtime spoken_languages status  tagline  \\\n",
       "19730  ...            1     NaN     NaN              NaN    NaN      NaN   \n",
       "29503  ...           12     NaN     NaN              NaN    NaN      NaN   \n",
       "35587  ...           22     NaN     NaN              NaN    NaN      NaN   \n",
       "\n",
       "       title video vote_average vote_count  \n",
       "19730    NaN   NaN          NaN        NaN  \n",
       "29503    NaN   NaN          NaN        NaN  \n",
       "35587    NaN   NaN          NaN        NaN  \n",
       "\n",
       "[3 rows x 24 columns]"
      ]
     },
     "execution_count": 52,
     "metadata": {},
     "output_type": "execute_result"
    }
   ],
   "source": [
    "kaggle_metadata[~kaggle_metadata['adult'].isin(['True','False'])]"
   ]
  },
  {
   "cell_type": "code",
   "execution_count": 53,
   "metadata": {},
   "outputs": [],
   "source": [
    "kaggle_metadata = kaggle_metadata[kaggle_metadata['adult'] == 'False'].drop('adult',axis='columns')"
   ]
  },
  {
   "cell_type": "markdown",
   "metadata": {},
   "source": [
    "# Video"
   ]
  },
  {
   "cell_type": "code",
   "execution_count": 54,
   "metadata": {},
   "outputs": [
    {
     "data": {
      "text/plain": [
       "False    45358\n",
       "True        93\n",
       "Name: video, dtype: int64"
      ]
     },
     "execution_count": 54,
     "metadata": {},
     "output_type": "execute_result"
    }
   ],
   "source": [
    "kaggle_metadata['video'].value_counts()"
   ]
  },
  {
   "cell_type": "code",
   "execution_count": 55,
   "metadata": {},
   "outputs": [
    {
     "data": {
      "text/plain": [
       "0        False\n",
       "1        False\n",
       "2        False\n",
       "3        False\n",
       "4        False\n",
       "         ...  \n",
       "45461    False\n",
       "45462    False\n",
       "45463    False\n",
       "45464    False\n",
       "45465    False\n",
       "Name: video, Length: 45454, dtype: bool"
      ]
     },
     "execution_count": 55,
     "metadata": {},
     "output_type": "execute_result"
    }
   ],
   "source": [
    "kaggle_metadata['video'] = kaggle_metadata['video'] == 'True'\n",
    "kaggle_metadata['video']"
   ]
  },
  {
   "cell_type": "code",
   "execution_count": 56,
   "metadata": {},
   "outputs": [],
   "source": [
    "kaggle_metadata['budget'] = kaggle_metadata['budget'].astype(int)\n",
    "kaggle_metadata['id'] = pd.to_numeric(kaggle_metadata['id'], errors='raise')\n",
    "kaggle_metadata['popularity'] = pd.to_numeric(kaggle_metadata['popularity'], errors='raise')\n",
    "kaggle_metadata['release_date'] = pd.to_datetime(kaggle_metadata['release_date'])"
   ]
  },
  {
   "cell_type": "markdown",
   "metadata": {},
   "source": [
    "# Rankings Data"
   ]
  },
  {
   "cell_type": "code",
   "execution_count": 59,
   "metadata": {},
   "outputs": [
    {
     "name": "stdout",
     "output_type": "stream",
     "text": [
      "<class 'pandas.core.frame.DataFrame'>\n",
      "RangeIndex: 26024289 entries, 0 to 26024288\n",
      "Data columns (total 4 columns):\n",
      " #   Column     Non-Null Count     Dtype  \n",
      "---  ------     --------------     -----  \n",
      " 0   userId     26024289 non-null  int64  \n",
      " 1   movieId    26024289 non-null  int64  \n",
      " 2   rating     26024289 non-null  float64\n",
      " 3   timestamp  26024289 non-null  int64  \n",
      "dtypes: float64(1), int64(3)\n",
      "memory usage: 794.2 MB\n"
     ]
    }
   ],
   "source": [
    "kaggle_rating.info(show_counts=True)"
   ]
  },
  {
   "cell_type": "code",
   "execution_count": 61,
   "metadata": {},
   "outputs": [],
   "source": [
    "kaggle_rating['timestamp'] = pd.to_datetime(kaggle_rating['timestamp'], unit='s')"
   ]
  },
  {
   "cell_type": "code",
   "execution_count": 62,
   "metadata": {},
   "outputs": [
    {
     "data": {
      "text/plain": [
       "count          26,024,289.00\n",
       "mean                    3.53\n",
       "std                     1.07\n",
       "min                     0.50\n",
       "25%                     3.00\n",
       "50%                     3.50\n",
       "75%                     4.00\n",
       "max                     5.00\n",
       "Name: rating, dtype: float64"
      ]
     },
     "execution_count": 62,
     "metadata": {},
     "output_type": "execute_result"
    },
    {
     "data": {
      "image/png": "[encoded data removed]",
      "text/plain": [
       "<Figure size 432x288 with 1 Axes>"
      ]
     },
     "metadata": {
      "needs_background": "light"
     },
     "output_type": "display_data"
    }
   ],
   "source": [
    "pd.options.display.float_format = '{:20,.2f}'.format\n",
    "kaggle_rating['rating'].plot(kind='hist')\n",
    "kaggle_rating['rating'].describe()"
   ]
  },
  {
   "cell_type": "markdown",
   "metadata": {},
   "source": [
    "# EXPORT"
   ]
  },
  {
   "cell_type": "code",
   "execution_count": null,
   "metadata": {},
   "outputs": [],
   "source": [
    "kaggle_metadata.to_csv(\"kaggle_metadata.csv\", index=False)"
   ]
  }
 ],
 "metadata": {
  "kernelspec": {
   "display_name": "Python 3.7.13 64-bit ('3.7.13')",
   "language": "python",
   "name": "python3"
  },
  "language_info": {
   "codemirror_mode": {
    "name": "ipython",
    "version": 3
   },
   "file_extension": ".py",
   "mimetype": "text/x-python",
   "name": "python",
   "nbconvert_exporter": "python",
   "pygments_lexer": "ipython3",
   "version": "3.7.13"
  },
  "orig_nbformat": 4,
  "vscode": {
   "interpreter": {
    "hash": "23fb88e34c1ec3c1e958019bb84aff6dc366f349f9c11c1fa2216e8b6fa6a029"
   }
  }
 },
 "nbformat": 4,
 "nbformat_minor": 2
}
